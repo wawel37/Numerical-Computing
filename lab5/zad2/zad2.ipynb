{
 "cells": [
  {
   "cell_type": "code",
   "execution_count": 1,
   "id": "830e3456",
   "metadata": {},
   "outputs": [],
   "source": [
    "import numpy as np\n",
    "import collections\n",
    "from random import shuffle\n",
    "from copy import deepcopy\n"
   ]
  },
  {
   "cell_type": "code",
   "execution_count": 2,
   "id": "02d3d7c5",
   "metadata": {},
   "outputs": [],
   "source": [
    "def cost(table, solved):\n",
    "    result = 0\n",
    "    N = len(table)\n",
    "    temp = np.zeros((9,9))\n",
    "    counter = 0\n",
    "    for i in range(N):\n",
    "        for j in range(N):\n",
    "            if table[i][j] == -1:\n",
    "                temp[i][j] = solved[counter]\n",
    "                counter += 1\n",
    "            else:\n",
    "                temp[i][j] = table[i][j]\n",
    "    \n",
    "    #columns\n",
    "    for row in temp:\n",
    "        result += N - len(np.unique(row))\n",
    "\n",
    "    #row\n",
    "    for i in range(N):\n",
    "        result += N - len(np.unique(temp[:,i]))\n",
    "\n",
    "    #squares\n",
    "    for j in range(0,7,3):\n",
    "        for i in range(0,7,3):\n",
    "            result += N - len(np.unique(temp[i:i+3,j:j+3]))\n",
    "\n",
    "    return result"
   ]
  },
  {
   "cell_type": "code",
   "execution_count": null,
   "id": "a629b0d0",
   "metadata": {},
   "outputs": [],
   "source": []
  }
 ],
 "metadata": {
  "kernelspec": {
   "display_name": "Python 3",
   "language": "python",
   "name": "python3"
  },
  "language_info": {
   "codemirror_mode": {
    "name": "ipython",
    "version": 3
   },
   "file_extension": ".py",
   "mimetype": "text/x-python",
   "name": "python",
   "nbconvert_exporter": "python",
   "pygments_lexer": "ipython3",
   "version": "3.8.5"
  }
 },
 "nbformat": 4,
 "nbformat_minor": 5
}
