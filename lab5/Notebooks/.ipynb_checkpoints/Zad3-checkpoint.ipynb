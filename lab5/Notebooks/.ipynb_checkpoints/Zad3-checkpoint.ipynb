{
 "cells": [
  {
   "cell_type": "markdown",
   "id": "a0da8f65",
   "metadata": {},
   "source": [
    "# Zadanie 3"
   ]
  },
  {
   "cell_type": "markdown",
   "id": "a1442a5a",
   "metadata": {},
   "source": [
    "## Mateusz Kowalski"
   ]
  },
  {
   "cell_type": "code",
   "execution_count": 38,
   "id": "2d31707b",
   "metadata": {},
   "outputs": [],
   "source": [
    "import numpy as np\n",
    "import collections\n",
    "from random import shuffle\n",
    "from copy import deepcopy\n",
    "import warnings\n",
    "import matplotlib.pyplot as plt"
   ]
  },
  {
   "cell_type": "markdown",
   "id": "22352864",
   "metadata": {},
   "source": [
    "## Cost function"
   ]
  },
  {
   "cell_type": "code",
   "execution_count": 39,
   "id": "b087268f",
   "metadata": {},
   "outputs": [],
   "source": [
    "def cost(table, solved):\n",
    "    result = 0\n",
    "    N = len(table)\n",
    "    temp = np.zeros((9,9))\n",
    "    counter = 0\n",
    "    for i in range(N):\n",
    "        for j in range(N):\n",
    "            if table[i][j] == -1:\n",
    "                temp[i][j] = solved[counter]\n",
    "                counter += 1\n",
    "            else:\n",
    "                temp[i][j] = table[i][j]\n",
    "    \n",
    "    #columns\n",
    "    for row in temp:\n",
    "        result += N - len(np.unique(row))\n",
    "\n",
    "    #row\n",
    "    for i in range(N):\n",
    "        result += N - len(np.unique(temp[:,i]))\n",
    "\n",
    "    #squares\n",
    "    for j in range(0,7,3):\n",
    "        for i in range(0,7,3):\n",
    "            result += N - len(np.unique(temp[i:i+3,j:j+3]))\n",
    "\n",
    "    return result"
   ]
  },
  {
   "cell_type": "markdown",
   "id": "27d2c093",
   "metadata": {},
   "source": [
    "## Swap function"
   ]
  },
  {
   "cell_type": "code",
   "execution_count": 40,
   "id": "cdecb1ff",
   "metadata": {},
   "outputs": [],
   "source": [
    "def swap(path):\n",
    "    swapped = deepcopy(path)\n",
    "    n = len(path)\n",
    "\n",
    "    a = np.random.randint(0,n-1)\n",
    "    b = np.random.randint(0,n-1)\n",
    "    while a == b:\n",
    "        a = np.random.randint(0,n-1)\n",
    "        b = np.random.randint(0,n-1)\n",
    "\n",
    "    swapped[a], swapped[b] = swapped[b], swapped[a]\n",
    "    return swapped"
   ]
  },
  {
   "cell_type": "markdown",
   "id": "4b3a0044",
   "metadata": {},
   "source": [
    "## Annealing"
   ]
  },
  {
   "cell_type": "code",
   "execution_count": 84,
   "id": "c3c4cb52",
   "metadata": {},
   "outputs": [],
   "source": [
    "def annealing(table, solved, iterationLimit):\n",
    "    with warnings.catch_warnings():\n",
    "        warnings.simplefilter('ignore') \n",
    "        T = 0.5\n",
    "        Ts = [T]\n",
    "        costs = [cost(table, solved)]\n",
    "        noChangesCounter = 0\n",
    "        iterationCounter = 0\n",
    "        for _ in range(iterationLimit):\n",
    "            prev_cost = cost(table, solved)\n",
    "            swapped = swap(solved)\n",
    "            if cost(table, swapped) <= cost(table, solved):\n",
    "                solved = swapped\n",
    "                noChangesCounter = 0\n",
    "            else:\n",
    "                if np.random.uniform(0,1) < np.exp((cost(table,solved) - cost(table,swapped)/T)):\n",
    "                    solved = swapped\n",
    "                    noChangesCounter = 0\n",
    "                else:\n",
    "                    noChangesCounter += 1\n",
    "            T *= 0.999\n",
    "            if noChangesCounter == 50:\n",
    "                T += 0.4 * T\n",
    "                noChangesCounter = 0\n",
    "            \n",
    "            Ts.append(T)\n",
    "            costs.append(cost(table, solved))\n",
    "            iterationCounter += 1\n",
    "            \n",
    "            if cost(table, solved) == 0:\n",
    "                break\n",
    "            \n",
    "\n",
    "        return solved, Ts, costs, iterationCounter"
   ]
  },
  {
   "cell_type": "markdown",
   "id": "2a533267",
   "metadata": {},
   "source": [
    "## Read File"
   ]
  },
  {
   "cell_type": "code",
   "execution_count": 57,
   "id": "bf4de0ce",
   "metadata": {},
   "outputs": [],
   "source": [
    "def readFile(fileName):\n",
    "    table = np.empty((9,9),int)\n",
    "    solved = []\n",
    "    with open(fileName,\"r\") as f:\n",
    "        text = f.read().split(\"\\n\")\n",
    "        text = text[:-1]\n",
    "        for row,line in enumerate(text):\n",
    "            chars = line.split(\" \")\n",
    "            for col in range(len(chars)):\n",
    "                table[row][col] = int(chars[col])\n",
    "    \n",
    "    count0 = 0\n",
    "    counter = [0 for i in range(10)]\n",
    "    for i in table:\n",
    "        for j in i:\n",
    "            if j == -1:\n",
    "                continue\n",
    "            counter[j] += 1\n",
    "    \n",
    "    for i in range(1, 10):\n",
    "        for j in range(9-counter[i]):\n",
    "            solved.append(i)\n",
    "    \n",
    "    shuffle(solved)\n",
    "    return table, np.array(solved)"
   ]
  },
  {
   "cell_type": "markdown",
   "id": "eeb6d0f0",
   "metadata": {},
   "source": [
    "## Solve function"
   ]
  },
  {
   "cell_type": "code",
   "execution_count": 70,
   "id": "b57a013b",
   "metadata": {},
   "outputs": [],
   "source": [
    "def solve(fileName, iterationLimit):\n",
    "    table, solved = readFile(fileName)\n",
    "    solved, Ts, costs, iterationCounter = annealing(table, solved, iterationLimit)\n",
    "    \n",
    "    X = [i for i in range(1, len(Ts) + 1)]\n",
    "    \n",
    "    print(\"Number of empty cells: \", len(solved))\n",
    "    if iterationCounter == iterationLimit:\n",
    "        print(\"Reached max iteration number! :(\")\n",
    "    print(\"Number of iterations: \", iterationCounter)\n",
    "    print(\"Final cost: \", costs[len(costs) - 1])\n",
    "    \n",
    "    plt.plot(X, Ts)\n",
    "    plt.title(\"Temperature\")\n",
    "    plt.show()\n",
    "    \n",
    "    plt.plot(X, costs)\n",
    "    plt.title(\"Cost\")\n",
    "    plt.show()"
   ]
  },
  {
   "cell_type": "code",
   "execution_count": 76,
   "id": "8ff878fb",
   "metadata": {},
   "outputs": [
    {
     "name": "stdout",
     "output_type": "stream",
     "text": [
      "Number of empty cells:  59\n",
      "Reached max iteration number! :(\n",
      "Number of iterations:  50000\n",
      "Final cost:  4\n"
     ]
    },
    {
     "data": {
      "image/png": "[encoded data removed]",
      "text/plain": [
       "<Figure size 432x288 with 1 Axes>"
      ]
     },
     "metadata": {
      "needs_background": "light"
     },
     "output_type": "display_data"
    },
    {
     "data": {
      "image/png": "[encoded data removed]",
      "text/plain": [
       "<Figure size 432x288 with 1 Axes>"
      ]
     },
     "metadata": {
      "needs_background": "light"
     },
     "output_type": "display_data"
    }
   ],
   "source": [
    "solve(\"sudoku.txt\", 50000)"
   ]
  },
  {
   "cell_type": "code",
   "execution_count": 85,
   "id": "3d2ab89f",
   "metadata": {},
   "outputs": [
    {
     "name": "stdout",
     "output_type": "stream",
     "text": [
      "Number of empty cells:  49\n",
      "Reached max iteration number! :(\n",
      "Number of iterations:  50000\n",
      "Final cost:  7\n"
     ]
    },
    {
     "data": {
      "image/png": "[encoded data removed]",
      "text/plain": [
       "<Figure size 432x288 with 1 Axes>"
      ]
     },
     "metadata": {
      "needs_background": "light"
     },
     "output_type": "display_data"
    },
    {
     "data": {
      "image/png": "[encoded data removed]",
      "text/plain": [
       "<Figure size 432x288 with 1 Axes>"
      ]
     },
     "metadata": {
      "needs_background": "light"
     },
     "output_type": "display_data"
    }
   ],
   "source": [
    "solve(\"sudoku2.txt\", 50000)"
   ]
  }
 ],
 "metadata": {
  "kernelspec": {
   "display_name": "Python 3",
   "language": "python",
   "name": "python3"
  },
  "language_info": {
   "codemirror_mode": {
    "name": "ipython",
    "version": 3
   },
   "file_extension": ".py",
   "mimetype": "text/x-python",
   "name": "python",
   "nbconvert_exporter": "python",
   "pygments_lexer": "ipython3",
   "version": "3.8.5"
  }
 },
 "nbformat": 4,
 "nbformat_minor": 5
}
